{
 "cells": [
  {
   "cell_type": "code",
   "execution_count": 65,
   "metadata": {},
   "outputs": [],
   "source": [
    "import numpy as np\n",
    "from sklearn import datasets\n",
    "from perceptron import Perceptron"
   ]
  },
  {
   "cell_type": "markdown",
   "metadata": {},
   "source": [
    "# Import the data set"
   ]
  },
  {
   "cell_type": "code",
   "execution_count": 66,
   "metadata": {},
   "outputs": [],
   "source": [
    "iris = datasets.load_iris()"
   ]
  },
  {
   "cell_type": "markdown",
   "metadata": {},
   "source": [
    "# Separate the data to the test and train"
   ]
  },
  {
   "cell_type": "code",
   "execution_count": 82,
   "metadata": {},
   "outputs": [],
   "source": [
    "# separate the data into training and testing sets 20% testing, 80% training\n",
    "from sklearn.model_selection import train_test_split\n",
    "X_train, X_test, y_train, y_test = train_test_split(iris.data, iris.target,\n",
    "                                                    test_size=0.2,\n",
    "                                                    random_state=0)"
   ]
  },
  {
   "cell_type": "code",
   "execution_count": 83,
   "metadata": {},
   "outputs": [
    {
     "data": {
      "text/plain": [
       "array([[1. , 6.4, 3.1, 5.5, 1.8],\n",
       "       [1. , 5.4, 3. , 4.5, 1.5],\n",
       "       [1. , 5.2, 3.5, 1.5, 0.2],\n",
       "       [1. , 6.1, 3. , 4.9, 1.8],\n",
       "       [1. , 6.4, 2.8, 5.6, 2.2],\n",
       "       [1. , 5.2, 2.7, 3.9, 1.4],\n",
       "       [1. , 5.7, 3.8, 1.7, 0.3],\n",
       "       [1. , 6. , 2.7, 5.1, 1.6],\n",
       "       [1. , 5.9, 3. , 4.2, 1.5],\n",
       "       [1. , 5.8, 2.6, 4. , 1.2],\n",
       "       [1. , 6.8, 3. , 5.5, 2.1],\n",
       "       [1. , 4.7, 3.2, 1.3, 0.2],\n",
       "       [1. , 6.9, 3.1, 5.1, 2.3],\n",
       "       [1. , 5. , 3.5, 1.6, 0.6],\n",
       "       [1. , 5.4, 3.7, 1.5, 0.2],\n",
       "       [1. , 5. , 2. , 3.5, 1. ],\n",
       "       [1. , 6.5, 3. , 5.5, 1.8],\n",
       "       [1. , 6.7, 3.3, 5.7, 2.5],\n",
       "       [1. , 6. , 2.2, 5. , 1.5],\n",
       "       [1. , 6.7, 2.5, 5.8, 1.8],\n",
       "       [1. , 5.6, 2.5, 3.9, 1.1],\n",
       "       [1. , 7.7, 3. , 6.1, 2.3],\n",
       "       [1. , 6.3, 3.3, 4.7, 1.6],\n",
       "       [1. , 5.5, 2.4, 3.8, 1.1],\n",
       "       [1. , 6.3, 2.7, 4.9, 1.8],\n",
       "       [1. , 6.3, 2.8, 5.1, 1.5],\n",
       "       [1. , 4.9, 2.5, 4.5, 1.7],\n",
       "       [1. , 6.3, 2.5, 5. , 1.9],\n",
       "       [1. , 7. , 3.2, 4.7, 1.4],\n",
       "       [1. , 6.5, 3. , 5.2, 2. ],\n",
       "       [1. , 6. , 3.4, 4.5, 1.6],\n",
       "       [1. , 4.8, 3.1, 1.6, 0.2],\n",
       "       [1. , 5.8, 2.7, 5.1, 1.9],\n",
       "       [1. , 5.6, 2.7, 4.2, 1.3],\n",
       "       [1. , 5.6, 2.9, 3.6, 1.3],\n",
       "       [1. , 5.5, 2.5, 4. , 1.3],\n",
       "       [1. , 6.1, 3. , 4.6, 1.4],\n",
       "       [1. , 7.2, 3.2, 6. , 1.8],\n",
       "       [1. , 5.3, 3.7, 1.5, 0.2],\n",
       "       [1. , 4.3, 3. , 1.1, 0.1],\n",
       "       [1. , 6.4, 2.7, 5.3, 1.9],\n",
       "       [1. , 5.7, 3. , 4.2, 1.2],\n",
       "       [1. , 5.4, 3.4, 1.7, 0.2],\n",
       "       [1. , 5.7, 4.4, 1.5, 0.4],\n",
       "       [1. , 6.9, 3.1, 4.9, 1.5],\n",
       "       [1. , 4.6, 3.1, 1.5, 0.2],\n",
       "       [1. , 5.9, 3. , 5.1, 1.8],\n",
       "       [1. , 5.1, 2.5, 3. , 1.1],\n",
       "       [1. , 4.6, 3.4, 1.4, 0.3],\n",
       "       [1. , 6.2, 2.2, 4.5, 1.5],\n",
       "       [1. , 7.2, 3.6, 6.1, 2.5],\n",
       "       [1. , 5.7, 2.9, 4.2, 1.3],\n",
       "       [1. , 4.8, 3. , 1.4, 0.1],\n",
       "       [1. , 7.1, 3. , 5.9, 2.1],\n",
       "       [1. , 6.9, 3.2, 5.7, 2.3],\n",
       "       [1. , 6.5, 3. , 5.8, 2.2],\n",
       "       [1. , 6.4, 2.8, 5.6, 2.1],\n",
       "       [1. , 5.1, 3.8, 1.6, 0.2],\n",
       "       [1. , 4.8, 3.4, 1.6, 0.2],\n",
       "       [1. , 6.5, 3.2, 5.1, 2. ],\n",
       "       [1. , 6.7, 3.3, 5.7, 2.1],\n",
       "       [1. , 4.5, 2.3, 1.3, 0.3],\n",
       "       [1. , 6.2, 3.4, 5.4, 2.3],\n",
       "       [1. , 4.9, 3. , 1.4, 0.2],\n",
       "       [1. , 5.7, 2.5, 5. , 2. ],\n",
       "       [1. , 6.9, 3.1, 5.4, 2.1],\n",
       "       [1. , 4.4, 3.2, 1.3, 0.2],\n",
       "       [1. , 5. , 3.6, 1.4, 0.2],\n",
       "       [1. , 7.2, 3. , 5.8, 1.6],\n",
       "       [1. , 5.1, 3.5, 1.4, 0.3],\n",
       "       [1. , 4.4, 3. , 1.3, 0.2],\n",
       "       [1. , 5.4, 3.9, 1.7, 0.4],\n",
       "       [1. , 5.5, 2.3, 4. , 1.3],\n",
       "       [1. , 6.8, 3.2, 5.9, 2.3],\n",
       "       [1. , 7.6, 3. , 6.6, 2.1],\n",
       "       [1. , 5.1, 3.5, 1.4, 0.2],\n",
       "       [1. , 4.9, 3.1, 1.5, 0.2],\n",
       "       [1. , 5.2, 3.4, 1.4, 0.2],\n",
       "       [1. , 5.7, 2.8, 4.5, 1.3],\n",
       "       [1. , 6.6, 3. , 4.4, 1.4],\n",
       "       [1. , 5. , 3.2, 1.2, 0.2],\n",
       "       [1. , 5.1, 3.3, 1.7, 0.5],\n",
       "       [1. , 6.4, 2.9, 4.3, 1.3],\n",
       "       [1. , 5.4, 3.4, 1.5, 0.4],\n",
       "       [1. , 7.7, 2.6, 6.9, 2.3],\n",
       "       [1. , 4.9, 2.4, 3.3, 1. ],\n",
       "       [1. , 7.9, 3.8, 6.4, 2. ],\n",
       "       [1. , 6.7, 3.1, 4.4, 1.4],\n",
       "       [1. , 5.2, 4.1, 1.5, 0.1],\n",
       "       [1. , 6. , 3. , 4.8, 1.8],\n",
       "       [1. , 5.8, 4. , 1.2, 0.2],\n",
       "       [1. , 7.7, 2.8, 6.7, 2. ],\n",
       "       [1. , 5.1, 3.8, 1.5, 0.3],\n",
       "       [1. , 4.7, 3.2, 1.6, 0.2],\n",
       "       [1. , 7.4, 2.8, 6.1, 1.9],\n",
       "       [1. , 5. , 3.3, 1.4, 0.2],\n",
       "       [1. , 6.3, 3.4, 5.6, 2.4],\n",
       "       [1. , 5.7, 2.8, 4.1, 1.3],\n",
       "       [1. , 5.8, 2.7, 3.9, 1.2],\n",
       "       [1. , 5.7, 2.6, 3.5, 1. ],\n",
       "       [1. , 6.4, 3.2, 5.3, 2.3],\n",
       "       [1. , 6.7, 3. , 5.2, 2.3],\n",
       "       [1. , 6.3, 2.5, 4.9, 1.5],\n",
       "       [1. , 6.7, 3. , 5. , 1.7],\n",
       "       [1. , 5. , 3. , 1.6, 0.2],\n",
       "       [1. , 5.5, 2.4, 3.7, 1. ],\n",
       "       [1. , 6.7, 3.1, 5.6, 2.4],\n",
       "       [1. , 5.8, 2.7, 5.1, 1.9],\n",
       "       [1. , 5.1, 3.4, 1.5, 0.2],\n",
       "       [1. , 6.6, 2.9, 4.6, 1.3],\n",
       "       [1. , 5.6, 3. , 4.1, 1.3],\n",
       "       [1. , 5.9, 3.2, 4.8, 1.8],\n",
       "       [1. , 6.3, 2.3, 4.4, 1.3],\n",
       "       [1. , 5.5, 3.5, 1.3, 0.2],\n",
       "       [1. , 5.1, 3.7, 1.5, 0.4],\n",
       "       [1. , 4.9, 3.1, 1.5, 0.1],\n",
       "       [1. , 6.3, 2.9, 5.6, 1.8],\n",
       "       [1. , 5.8, 2.7, 4.1, 1. ],\n",
       "       [1. , 7.7, 3.8, 6.7, 2.2],\n",
       "       [1. , 4.6, 3.2, 1.4, 0.2]])"
      ]
     },
     "execution_count": 83,
     "metadata": {},
     "output_type": "execute_result"
    }
   ],
   "source": [
    "# add the bias column to the training and testing sets\n",
    "X_train = np.c_[np.ones((X_train.shape[0], 1)), X_train]\n",
    "X_test = np.c_[np.ones((X_test.shape[0], 1)), X_test]\n",
    "X_train"
   ]
  },
  {
   "cell_type": "markdown",
   "metadata": {},
   "source": [
    "# Create the 3 output for the model"
   ]
  },
  {
   "cell_type": "code",
   "execution_count": 84,
   "metadata": {},
   "outputs": [],
   "source": [
    "y_train_0 = (y_train == 0).astype(int)\n",
    "y_train_1 = (y_train == 1).astype(int)\n",
    "y_train_2 = (y_train == 2).astype(int)"
   ]
  },
  {
   "cell_type": "markdown",
   "metadata": {},
   "source": [
    "# Create the 3 model"
   ]
  },
  {
   "cell_type": "code",
   "execution_count": 137,
   "metadata": {},
   "outputs": [],
   "source": [
    "model1 = Perceptron(n_features=4, n_iteration=10000, learning_rate=0.001)\n",
    "model2 = Perceptron(n_features=4, n_iteration=10000, learning_rate=0.001)\n",
    "model3 = Perceptron(n_features=4, n_iteration=10000, learning_rate=0.001)"
   ]
  },
  {
   "cell_type": "markdown",
   "metadata": {},
   "source": [
    "# Train the model"
   ]
  },
  {
   "cell_type": "code",
   "execution_count": 138,
   "metadata": {},
   "outputs": [],
   "source": [
    "model1.train(X_train.T, y_train_0)\n",
    "model2.train(X_train.T, y_train_1)\n",
    "model3.train(X_train.T, y_train_2)"
   ]
  },
  {
   "cell_type": "markdown",
   "metadata": {},
   "source": [
    "# Find the best class based on the trained-model"
   ]
  },
  {
   "cell_type": "code",
   "execution_count": 139,
   "metadata": {},
   "outputs": [],
   "source": [
    "def find_best_class(x):\n",
    "    best_class = []\n",
    "    for i in range(len(x)):\n",
    "        prediction = [model1.predict(x[i]), model2.predict(x[i]), model3.predict(x[i])]\n",
    "        best_class.append(prediction.index(max(prediction)))\n",
    "    return best_class"
   ]
  },
  {
   "cell_type": "markdown",
   "metadata": {},
   "source": [
    "# Check the Accuracy of the train and the test set"
   ]
  },
  {
   "cell_type": "code",
   "execution_count": 148,
   "metadata": {},
   "outputs": [
    {
     "name": "stdout",
     "output_type": "stream",
     "text": [
      "The accuracy of the model on the training set is: 0.8333333333333334\n",
      "The accuracy of the model on the testing set is: 0.7666666666666667\n"
     ]
    }
   ],
   "source": [
    "print(f\"The accuracy of the model on the training set is: {np.mean(find_best_class(X_train) == y_train)}\")\n",
    "print(f\"The accuracy of the model on the testing set is: {np.mean(find_best_class(X_test) == y_test)}\")"
   ]
  }
 ],
 "metadata": {
  "kernelspec": {
   "display_name": "sklearn-env",
   "language": "python",
   "name": "python3"
  },
  "language_info": {
   "codemirror_mode": {
    "name": "ipython",
    "version": 3
   },
   "file_extension": ".py",
   "mimetype": "text/x-python",
   "name": "python",
   "nbconvert_exporter": "python",
   "pygments_lexer": "ipython3",
   "version": "3.10.4"
  }
 },
 "nbformat": 4,
 "nbformat_minor": 2
}
