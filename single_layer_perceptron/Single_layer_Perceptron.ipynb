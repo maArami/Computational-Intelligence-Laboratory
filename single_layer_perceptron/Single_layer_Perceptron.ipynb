{
 "cells": [
  {
   "cell_type": "markdown",
   "metadata": {},
   "source": [
    "# Import the required library"
   ]
  },
  {
   "cell_type": "code",
   "execution_count": 1,
   "metadata": {},
   "outputs": [],
   "source": [
    "import numpy as np"
   ]
  },
  {
   "cell_type": "markdown",
   "metadata": {},
   "source": [
    "# define the sigmoid function"
   ]
  },
  {
   "cell_type": "code",
   "execution_count": 2,
   "metadata": {},
   "outputs": [],
   "source": [
    "def sigmoid(x):\n",
    "    \"\"\"Return the sigmoid of the x\"\"\"\n",
    "    return (2 / (1 + np.exp(-x))) - 1"
   ]
  },
  {
   "cell_type": "markdown",
   "metadata": {},
   "source": [
    "# Implement the Single Layer Perceptron"
   ]
  },
  {
   "cell_type": "code",
   "execution_count": 81,
   "metadata": {},
   "outputs": [],
   "source": [
    "class Perceptron:\n",
    "    def __init__(self, n_features, learning_rate=0.01, n_iteration=1000):\n",
    "        \"\"\"\n",
    "        initialize the perceptron\n",
    "\n",
    "        Parameters:\n",
    "        ----------\n",
    "            n_features: int\n",
    "                Number of features of the input data\n",
    "            learning_rate: float\n",
    "                Learning rate of the perceptron\n",
    "            n_iteration: int\n",
    "                number of iteration to train the perceptron\n",
    "            weight: numpy array\n",
    "                Weight of the perceptron with shape (n_features + 1, 1)\n",
    "                it includes the bias term\n",
    "            dw: numpy array\n",
    "                The gradient of the weight\n",
    "        ----------\n",
    "        \"\"\"\n",
    "        self.n_features = n_features\n",
    "        self.weight = np.random.normal(size=(n_features + 1, 1))\n",
    "        self.learning_rate = learning_rate\n",
    "        self.n_iteration = n_iteration\n",
    "        self.dw = 0\n",
    "\n",
    "    def sigmoid(self, x):\n",
    "        \"\"\"Return the sigmoid of the x\"\"\"\n",
    "        return (2 / (1 + np.exp(-x))) - 1\n",
    "\n",
    "    def forward(self, x):\n",
    "        \"\"\"\n",
    "        Return the output of the perceptron with input x and weight w\n",
    "        \"\"\"\n",
    "        return self.sigmoid(np.dot(self.weight.T, x))\n",
    "\n",
    "    def grad(self, x, y):\n",
    "        \"\"\"\n",
    "        Compute the gradient of the weight\n",
    "\n",
    "        Parameters:\n",
    "        ----------\n",
    "            x: numpy array\n",
    "                input of the perceptron with shape (n_features + 1, 1)\n",
    "                it includes the bias term\n",
    "            y: numpy array\n",
    "                target of the perceptron with shape (1, 1)\n",
    "\n",
    "        \"\"\"\n",
    "        output = self.forward(x)\n",
    "        self.dw = np.sum(-0.5*(y - output)*(1 - output**2)*x, 1, keepdims=2)\n",
    "        return self.dw\n",
    "\n",
    "    def step(self):\n",
    "        \"\"\"\n",
    "        Update the weight of the perceptron with the gradient\n",
    "        \"\"\"\n",
    "        self.weight = self.weight - self.learning_rate*self.dw\n",
    "        return self.weight\n",
    "\n",
    "    def train(self, x, y):\n",
    "        \"\"\"Train the perceptron\"\"\"\n",
    "        for _ in range(self.n_iteration):\n",
    "            self.grad(x, y)\n",
    "            self.step()\n",
    "\n",
    "    def predict(self, x):\n",
    "        \"\"\"Return the prediction of the perceptron\"\"\"\n",
    "        return self.forward(x)"
   ]
  },
  {
   "cell_type": "markdown",
   "metadata": {},
   "source": [
    "# Create the data for the XOR problem"
   ]
  },
  {
   "cell_type": "code",
   "execution_count": 82,
   "metadata": {},
   "outputs": [],
   "source": [
    "x_xor = np.array([[1, 1, 0, 0], [1, 0, 1, 0], [1, 1, 1, 1]])\n",
    "y_xor = np.array([[0, 1, 1, 0]])\n",
    "\n",
    "x_and = np.array([[1, 1, 0, 0], [1, 0, 1, 0], [1, 1, 1, 1]])\n",
    "y_and = np.array([[1, 0, 0, 0]])\n",
    "\n",
    "x_or = np.array([[1, 1, 0, 0], [1, 0, 1, 0], [1, 1, 1, 1]])\n",
    "y_or = np.array([[1, 1, 1, 0]])"
   ]
  },
  {
   "cell_type": "markdown",
   "metadata": {},
   "source": [
    "# Train the model"
   ]
  },
  {
   "cell_type": "code",
   "execution_count": 83,
   "metadata": {},
   "outputs": [],
   "source": [
    "model_xor = Perceptron(2)\n",
    "model_xor.train(x_xor, y_xor)\n",
    "\n",
    "model_and = Perceptron(2)\n",
    "model_and.train(x_and, y_and)\n",
    "\n",
    "model_or = Perceptron(2)\n",
    "model_or.train(x_or, y_or)"
   ]
  },
  {
   "cell_type": "code",
   "execution_count": 84,
   "metadata": {},
   "outputs": [
    {
     "name": "stdout",
     "output_type": "stream",
     "text": [
      "XOR\n",
      "The weight of the perceptron is\n",
      " [[0.47030654]\n",
      " [0.64859301]\n",
      " [0.65865505]]\n",
      "The output of the perceptron is\n",
      " [[0.71078929 0.51129442 0.57410459 0.3179164 ]]\n",
      "\n",
      "AND\n",
      "The weight of the perceptron is\n",
      " [[ 0.68164496]\n",
      " [ 0.76183919]\n",
      " [-0.1926269 ]]\n",
      "The output of the perceptron is\n",
      " [[ 0.55489644  0.23975017  0.27716279 -0.09601674]]\n",
      "\n",
      "OR\n",
      "The weight of the perceptron is\n",
      " [[1.57234997]\n",
      " [1.06668253]\n",
      " [0.7290669 ]]\n",
      "The output of the perceptron is\n",
      " [[0.9333851  0.81798863 0.71526146 0.34920095]]\n"
     ]
    }
   ],
   "source": [
    "print(\"XOR\")\n",
    "print(f\"The weight of the perceptron is\\n {model_xor.weight}\")\n",
    "print(f\"The output of the perceptron is\\n {model_xor.predict(x_xor)}\")\n",
    "\n",
    "print(\"\\nAND\")\n",
    "print(f\"The weight of the perceptron is\\n {model_and.weight}\")\n",
    "print(f\"The output of the perceptron is\\n {model_and.predict(x_and)}\")\n",
    "\n",
    "print(\"\\nOR\")\n",
    "print(f\"The weight of the perceptron is\\n {model_or.weight}\")\n",
    "print(f\"The output of the perceptron is\\n {model_or.predict(x_or)}\")"
   ]
  },
  {
   "cell_type": "code",
   "execution_count": null,
   "metadata": {},
   "outputs": [],
   "source": []
  }
 ],
 "metadata": {
  "kernelspec": {
   "display_name": "SONCO",
   "language": "python",
   "name": "python3"
  },
  "language_info": {
   "codemirror_mode": {
    "name": "ipython",
    "version": 3
   },
   "file_extension": ".py",
   "mimetype": "text/x-python",
   "name": "python",
   "nbconvert_exporter": "python",
   "pygments_lexer": "ipython3",
   "version": "3.10.12"
  }
 },
 "nbformat": 4,
 "nbformat_minor": 2
}
