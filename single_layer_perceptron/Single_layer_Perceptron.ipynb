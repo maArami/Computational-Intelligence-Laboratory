{
 "cells": [
  {
   "cell_type": "markdown",
   "metadata": {},
   "source": [
    "# Import the required library"
   ]
  },
  {
   "cell_type": "code",
   "execution_count": 1,
   "metadata": {},
   "outputs": [],
   "source": [
    "import numpy as np"
   ]
  },
  {
   "cell_type": "markdown",
   "metadata": {},
   "source": [
    "# define the sigmoid function"
   ]
  },
  {
   "cell_type": "code",
   "execution_count": 2,
   "metadata": {},
   "outputs": [],
   "source": [
    "def sigmoid(x):\n",
    "    \"\"\"Return the sigmoid of the x\"\"\"\n",
    "    return (2 / (1 + np.exp(-x))) - 1"
   ]
  },
  {
   "cell_type": "markdown",
   "metadata": {},
   "source": [
    "# Implement the Single Layer Perceptron"
   ]
  },
  {
   "cell_type": "code",
   "execution_count": 3,
   "metadata": {},
   "outputs": [],
   "source": [
    "class Perceptron:\n",
    "    def __init__(self, n_features, learning_rate=0.01, n_iteration=1000):\n",
    "        \"\"\"\n",
    "        initialize the perceptron\n",
    "\n",
    "        Parameters:\n",
    "        ----------\n",
    "            n_features: int\n",
    "                Number of features of the input data\n",
    "            learning_rate: float\n",
    "                Learning rate of the perceptron\n",
    "            n_iteration: int\n",
    "                number of iteration to train the perceptron\n",
    "            weight: numpy array\n",
    "                Weight of the perceptron with shape (n_features + 1, 1)\n",
    "                it includes the bias term\n",
    "            dw: numpy array\n",
    "                The gradient of the weight\n",
    "        ----------\n",
    "        \"\"\"\n",
    "        self.n_features = n_features\n",
    "        self.weight = np.random.normal(size=(n_features, 1))\n",
    "        self.learning_rate = learning_rate\n",
    "        self.n_iteration = n_iteration\n",
    "        self.dw = 0\n",
    "\n",
    "    def sigmoid(self, x):\n",
    "        \"\"\"Return the sigmoid of the x\"\"\"\n",
    "        return (2 / (1 + np.exp(-x))) - 1\n",
    "\n",
    "    def forward(self, x):\n",
    "        \"\"\"\n",
    "        Return the output of the perceptron with input x and weight w\n",
    "        \"\"\"\n",
    "        return self.sigmoid(np.dot(self.weight.T, x))\n",
    "\n",
    "    def grad(self, x, y):\n",
    "        \"\"\"\n",
    "        Compute the gradient of the weight\n",
    "\n",
    "        Parameters:\n",
    "        ----------\n",
    "            x: numpy array\n",
    "                input of the perceptron with shape (n_features + 1, 1)\n",
    "                it includes the bias term\n",
    "            y: numpy array\n",
    "                target of the perceptron with shape (1, 1)\n",
    "\n",
    "        \"\"\"\n",
    "        output = self.forward(x)\n",
    "        self.dw = np.sum(-0.5*(y - output)*(1 - output**2)*x, 1, keepdims=2)\n",
    "        return self.dw\n",
    "\n",
    "    def step(self):\n",
    "        \"\"\"\n",
    "        Update the weight of the perceptron with the gradient\n",
    "        \"\"\"\n",
    "        self.weight = self.weight - self.learning_rate*self.dw\n",
    "        return self.weight\n",
    "\n",
    "    def train(self, x, y):\n",
    "        \"\"\"Train the perceptron\"\"\"\n",
    "        for _ in range(self.n_iteration):\n",
    "            self.grad(x, y)\n",
    "            self.step()"
   ]
  },
  {
   "cell_type": "markdown",
   "metadata": {},
   "source": [
    "# Create the data for the XOR problem"
   ]
  },
  {
   "cell_type": "code",
   "execution_count": 21,
   "metadata": {},
   "outputs": [],
   "source": [
    "x = np.array([[1, 1, 0, 0], [1, 0, 1, 0]])\n",
    "y = np.array([[0, 1, 1, 0]])"
   ]
  },
  {
   "cell_type": "markdown",
   "metadata": {},
   "source": [
    "# Train the model"
   ]
  },
  {
   "cell_type": "code",
   "execution_count": 22,
   "metadata": {},
   "outputs": [],
   "source": [
    "model = Perceptron(2)\n",
    "model.train(x, y)"
   ]
  },
  {
   "cell_type": "code",
   "execution_count": 23,
   "metadata": {},
   "outputs": [
    {
     "data": {
      "text/plain": [
       "array([[0.80686959, 0.49673054, 0.51758575, 0.        ]])"
      ]
     },
     "execution_count": 23,
     "metadata": {},
     "output_type": "execute_result"
    }
   ],
   "source": [
    "model.forward(x)"
   ]
  },
  {
   "cell_type": "code",
   "execution_count": null,
   "metadata": {},
   "outputs": [],
   "source": []
  }
 ],
 "metadata": {
  "kernelspec": {
   "display_name": "SONCO",
   "language": "python",
   "name": "python3"
  },
  "language_info": {
   "codemirror_mode": {
    "name": "ipython",
    "version": 3
   },
   "file_extension": ".py",
   "mimetype": "text/x-python",
   "name": "python",
   "nbconvert_exporter": "python",
   "pygments_lexer": "ipython3",
   "version": "3.10.12"
  }
 },
 "nbformat": 4,
 "nbformat_minor": 2
}
